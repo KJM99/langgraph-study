{
 "cells": [
  {
   "metadata": {},
   "cell_type": "markdown",
   "source": [
    "### 루프를 생성하고 제어하는 방법\n",
    "- 루프가 있는 그래프를 생성할 때는 실행을 종료하는 매커니즘 필요\n",
    "- 일반적인 종료 조건 : END 노드로 연결되는 조건부 엣지 추가\n",
    "- 그래프를 호출하거나 스트리밍할 때 그래프 재귀 제한 설정 가능"
   ],
   "id": "49de8444492a128c"
  },
  {
   "metadata": {},
   "cell_type": "markdown",
   "source": "### 그래프 정의",
   "id": "f045d98aa66ada7"
  },
  {
   "cell_type": "code",
   "id": "initial_id",
   "metadata": {
    "collapsed": true,
    "ExecuteTime": {
     "end_time": "2025-04-25T00:45:55.298688Z",
     "start_time": "2025-04-25T00:45:54.991894Z"
    }
   },
   "source": [
    "import operator\n",
    "from typing import Annotated, Literal\n",
    "\n",
    "from typing_extensions import TypedDict\n",
    "\n",
    "from langgraph.graph import StateGraph, START, END\n",
    "\n",
    "\n",
    "class State(TypedDict):\n",
    "    aggregate: Annotated[list, operator.add]\n",
    "\n",
    "def a(state: State):\n",
    "    print(f'Node A sees {state[\"aggregate\"]}')\n",
    "    return {\"aggregate\": [\"A\"]}\n",
    "\n",
    "def b(state: State):\n",
    "    print(f'Node B sees {state[\"aggregate\"]}')\n",
    "    return {\"aggregate\": [\"B\"]}\n",
    "\n",
    "\n",
    "# Define nodes\n",
    "builder = StateGraph(State)\n",
    "builder.add_node(a)\n",
    "builder.add_node(b)\n",
    "\n",
    "def route(state: State) -> Literal[\"b\", END]:\n",
    "    if len(state[\"aggregate\"]) < 7:\n",
    "        return \"b\"\n",
    "    else:\n",
    "        return END\n",
    "\n",
    "\n",
    "builder.add_edge(START, \"a\")\n",
    "builder.add_conditional_edges(\"a\", route)\n",
    "builder.add_edge(\"b\", \"a\")\n",
    "graph = builder.compile()"
   ],
   "outputs": [],
   "execution_count": 1
  },
  {
   "metadata": {
    "ExecuteTime": {
     "end_time": "2025-04-25T00:46:48.972625Z",
     "start_time": "2025-04-25T00:46:47.821541Z"
    }
   },
   "cell_type": "code",
   "source": [
    "from IPython.display import Image, display\n",
    "\n",
    "display(Image(graph.get_graph().draw_mermaid_png()))"
   ],
   "id": "b8fd5eb9a3228a43",
   "outputs": [
    {
     "data": {
      "image/png": "[encoded data removed]",
      "text/plain": [
       "<IPython.core.display.Image object>"
      ]
     },
     "metadata": {},
     "output_type": "display_data"
    }
   ],
   "execution_count": 2
  },
  {
   "metadata": {},
   "cell_type": "markdown",
   "source": [
    "해당 아키텍처는 `\"a\"` 노드가 도구 호출 모델, `\"b\"` 노드가 도구를 나타내는 ReAct 에이전드와 유사\n",
    "\n",
    "조건부 엣지에서는 \"aggregate\" 상태의 목록이 임계값 길이를 통과한 `route`후에 종료되어야 한다고 지정\n",
    "\n",
    "그래프를 불러오면 종료 조건에 도달하면 `\"a\"`노드와 `\"b\"`노드 사이를 번갈아가며 이동"
   ],
   "id": "5465ef6d2a9e6a26"
  },
  {
   "metadata": {
    "ExecuteTime": {
     "end_time": "2025-04-25T00:50:41.242183Z",
     "start_time": "2025-04-25T00:50:41.223685Z"
    }
   },
   "cell_type": "code",
   "source": "graph.invoke({\"aggregate\": []})",
   "id": "7b52753e5b571788",
   "outputs": [
    {
     "name": "stdout",
     "output_type": "stream",
     "text": [
      "Node A sees []\n",
      "Node B sees ['A']\n",
      "Node A sees ['A', 'B']\n",
      "Node B sees ['A', 'B', 'A']\n",
      "Node A sees ['A', 'B', 'A', 'B']\n",
      "Node B sees ['A', 'B', 'A', 'B', 'A']\n",
      "Node A sees ['A', 'B', 'A', 'B', 'A', 'B']\n"
     ]
    },
    {
     "data": {
      "text/plain": [
       "{'aggregate': ['A', 'B', 'A', 'B', 'A', 'B', 'A']}"
      ]
     },
     "execution_count": 3,
     "metadata": {},
     "output_type": "execute_result"
    }
   ],
   "execution_count": 3
  },
  {
   "metadata": {},
   "cell_type": "markdown",
   "source": [
    "### 재귀 제한을 부과\n",
    "- 일부 애플리케이션에서는 주어진 종료 조건에 도달할 것이라는 보장이 없을 수 있음\n",
    "- 재귀 한계를 설정할 수 있음\n",
    "- 주어진 슈퍼스텝 수 후에 `GraphRecursionError`를 발생"
   ],
   "id": "ec6f33b06c178a14"
  },
  {
   "metadata": {
    "ExecuteTime": {
     "end_time": "2025-04-25T00:52:43.817792Z",
     "start_time": "2025-04-25T00:52:43.809405Z"
    }
   },
   "cell_type": "code",
   "source": [
    "from langgraph.errors import GraphRecursionError\n",
    "\n",
    "try:\n",
    "    graph.invoke({\"aggregate\": []}, {\"recursion_limit\": 4}) # 재귀 한계 4로 설정\n",
    "except GraphRecursionError:\n",
    "    print(\"Recursion Error\")"
   ],
   "id": "26fdd6fcc902a2f4",
   "outputs": [
    {
     "name": "stdout",
     "output_type": "stream",
     "text": [
      "Node A sees []\n",
      "Node B sees ['A']\n",
      "Node A sees ['A', 'B']\n",
      "Node B sees ['A', 'B', 'A']\n",
      "Recursion Error\n"
     ]
    }
   ],
   "execution_count": 4
  },
  {
   "metadata": {},
   "cell_type": "markdown",
   "source": [
    "### 가지가 있는 루프\n",
    "- 아래 루프를 구현하지만, 한 단계가 두 노드로 확장"
   ],
   "id": "b7e3b9500dc2a2f6"
  },
  {
   "metadata": {
    "ExecuteTime": {
     "end_time": "2025-04-25T00:54:11.063701Z",
     "start_time": "2025-04-25T00:54:11.050910Z"
    }
   },
   "cell_type": "code",
   "source": [
    "import operator\n",
    "from typing import Annotated, Literal\n",
    "\n",
    "from typing_extensions import TypedDict\n",
    "\n",
    "from langgraph.graph import StateGraph, START, END\n",
    "\n",
    "class State(TypedDict):\n",
    "    aggregate: Annotated[list, operator.add]\n",
    "\n",
    "def a(state: State):\n",
    "    print(f'Node A sees {state[\"aggregate\"]}')\n",
    "    return {\"aggregate\": [\"A\"]}\n",
    "\n",
    "def b(state: State):\n",
    "    print(f'Node B sees {state[\"aggregate\"]}')\n",
    "    return {\"aggregate\": [\"B\"]}\n",
    "\n",
    "def c(state: State):\n",
    "    print(f'Node C sees {state[\"aggregate\"]}')\n",
    "    return {\"aggregate\": [\"C\"]}\n",
    "\n",
    "def d(state: State):\n",
    "    print(f'Node D sees {state[\"aggregate\"]}')\n",
    "    return {\"aggregate\": [\"D\"]}\n",
    "\n",
    "# Define nodes\n",
    "builder = StateGraph(State)\n",
    "builder.add_node(a)\n",
    "builder.add_node(b)\n",
    "builder.add_node(c)\n",
    "builder.add_node(d)\n",
    "\n",
    "# Define edges\n",
    "def route(state: State) -> Literal[\"b\", END]:\n",
    "    if len(state[\"aggregate\"]) < 7:\n",
    "        return \"b\"\n",
    "    else:\n",
    "        return END\n",
    "\n",
    "\n",
    "builder.add_edge(START, \"a\")\n",
    "builder.add_conditional_edges(\"a\", route)\n",
    "builder.add_edge(\"b\", \"c\")\n",
    "builder.add_edge(\"b\", \"d\")\n",
    "builder.add_edge([\"c\", \"d\"], \"a\")\n",
    "graph = builder.compile()"
   ],
   "id": "703b41b891841785",
   "outputs": [],
   "execution_count": 5
  },
  {
   "metadata": {
    "ExecuteTime": {
     "end_time": "2025-04-25T00:54:21.336649Z",
     "start_time": "2025-04-25T00:54:20.246153Z"
    }
   },
   "cell_type": "code",
   "source": [
    "from IPython.display import Image, display\n",
    "\n",
    "display(Image(graph.get_graph().draw_mermaid_png()))"
   ],
   "id": "132f351c0a44a79e",
   "outputs": [
    {
     "data": {
      "image/png": "[encoded data removed]",
      "text/plain": [
       "<IPython.core.display.Image object>"
      ]
     },
     "metadata": {},
     "output_type": "display_data"
    }
   ],
   "execution_count": 6
  },
  {
   "metadata": {
    "ExecuteTime": {
     "end_time": "2025-04-25T00:54:46.538691Z",
     "start_time": "2025-04-25T00:54:46.529550Z"
    }
   },
   "cell_type": "code",
   "source": "result = graph.invoke({\"aggregate\": []})",
   "id": "54e0e2b4672af0cc",
   "outputs": [
    {
     "name": "stdout",
     "output_type": "stream",
     "text": [
      "Node A sees []\n",
      "Node B sees ['A']\n",
      "Node C sees ['A', 'B']\n",
      "Node D sees ['A', 'B']\n",
      "Node A sees ['A', 'B', 'C', 'D']\n",
      "Node B sees ['A', 'B', 'C', 'D', 'A']\n",
      "Node D sees ['A', 'B', 'C', 'D', 'A', 'B']\n",
      "Node C sees ['A', 'B', 'C', 'D', 'A', 'B']\n",
      "Node A sees ['A', 'B', 'C', 'D', 'A', 'B', 'C', 'D']\n"
     ]
    }
   ],
   "execution_count": 7
  },
  {
   "metadata": {
    "ExecuteTime": {
     "end_time": "2025-04-25T00:55:03.054549Z",
     "start_time": "2025-04-25T00:55:03.045443Z"
    }
   },
   "cell_type": "code",
   "source": [
    "from langgraph.errors import GraphRecursionError\n",
    "\n",
    "try:\n",
    "    result = graph.invoke({\"aggregate\": []}, {\"recursion_limit\": 4}) # 재귀 4번으로 제한\n",
    "except GraphRecursionError:\n",
    "    print(\"Recursion Error\")"
   ],
   "id": "bb748f52b33b1c1a",
   "outputs": [
    {
     "name": "stdout",
     "output_type": "stream",
     "text": [
      "Node A sees []\n",
      "Node B sees ['A']\n",
      "Node D sees ['A', 'B']\n",
      "Node C sees ['A', 'B']\n",
      "Node A sees ['A', 'B', 'C', 'D']\n",
      "Recursion Error\n"
     ]
    }
   ],
   "execution_count": 8
  }
 ],
 "metadata": {
  "kernelspec": {
   "display_name": "Python 3",
   "language": "python",
   "name": "python3"
  },
  "language_info": {
   "codemirror_mode": {
    "name": "ipython",
    "version": 2
   },
   "file_extension": ".py",
   "mimetype": "text/x-python",
   "name": "python",
   "nbconvert_exporter": "python",
   "pygments_lexer": "ipython2",
   "version": "2.7.6"
  }
 },
 "nbformat": 4,
 "nbformat_minor": 5
}
