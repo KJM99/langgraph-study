{
 "cells": [
  {
   "metadata": {},
   "cell_type": "markdown",
   "source": [
    "## 그래프에 런타임 구성을 추가하는 방법\n",
    "에이전트를 호출할 때, 에이전트를 구성해야 하는 경우가 있음"
   ],
   "id": "76699f434f2fb8e"
  },
  {
   "cell_type": "code",
   "id": "initial_id",
   "metadata": {
    "collapsed": true,
    "ExecuteTime": {
     "end_time": "2025-04-29T05:17:55.690853Z",
     "start_time": "2025-04-29T05:17:55.678940Z"
    }
   },
   "source": [
    "from dotenv import load_dotenv\n",
    "\n",
    "load_dotenv()"
   ],
   "outputs": [
    {
     "data": {
      "text/plain": [
       "True"
      ]
     },
     "execution_count": 1,
     "metadata": {},
     "output_type": "execute_result"
    }
   ],
   "execution_count": 1
  },
  {
   "metadata": {},
   "cell_type": "markdown",
   "source": "### 그래프 정의",
   "id": "47cae8146f12f66d"
  },
  {
   "metadata": {
    "ExecuteTime": {
     "end_time": "2025-04-29T06:32:31.286746Z",
     "start_time": "2025-04-29T06:32:30.365900Z"
    }
   },
   "cell_type": "code",
   "source": [
    "from langchain_openai import ChatOpenAI\n",
    "import operator\n",
    "from typing import Annotated, Sequence\n",
    "from typing_extensions import TypedDict\n",
    "\n",
    "# from langchain_anthropic import ChatAnthropic\n",
    "from langchain_core.messages import BaseMessage, HumanMessage\n",
    "\n",
    "from langgraph.graph import END, StateGraph, START\n",
    "\n",
    "# model = ChatAnthropic(model_name=\"claude-2.1\")\n",
    "model = ChatOpenAI(model=\"gpt-4o-mini\")\n",
    "\n",
    "class AgentState(TypedDict):\n",
    "    messages: Annotated[Sequence[BaseMessage], operator.add]\n",
    "\n",
    "\n",
    "def _call_model(state):\n",
    "    state[\"messages\"]\n",
    "    response = model.invoke(state[\"messages\"])\n",
    "    return {\"messages\": [response]}\n",
    "\n",
    "# Define a new graph\n",
    "builder = StateGraph(AgentState)\n",
    "builder.add_node(\"model\", _call_model)\n",
    "builder.add_edge(START, \"model\")\n",
    "builder.add_edge(\"model\", END)\n",
    "\n",
    "graph = builder.compile()"
   ],
   "id": "cc4a157adcd022f4",
   "outputs": [],
   "execution_count": 2
  },
  {
   "metadata": {
    "ExecuteTime": {
     "end_time": "2025-04-29T06:32:47.605354Z",
     "start_time": "2025-04-29T06:32:45.824836Z"
    }
   },
   "cell_type": "code",
   "source": "graph.invoke({\"messages\": [HumanMessage(content=\"hi\")]})",
   "id": "a246c9593f70386f",
   "outputs": [
    {
     "data": {
      "text/plain": [
       "{'messages': [HumanMessage(content='hi', additional_kwargs={}, response_metadata={}),\n",
       "  AIMessage(content='Hello! How can I assist you today?', additional_kwargs={'refusal': None}, response_metadata={'token_usage': {'completion_tokens': 10, 'prompt_tokens': 8, 'total_tokens': 18, 'completion_tokens_details': {'accepted_prediction_tokens': 0, 'audio_tokens': 0, 'reasoning_tokens': 0, 'rejected_prediction_tokens': 0}, 'prompt_tokens_details': {'audio_tokens': 0, 'cached_tokens': 0}}, 'model_name': 'gpt-4o-mini-2024-07-18', 'system_fingerprint': 'fp_129a36352a', 'id': 'chatcmpl-BRYoIkosdWc4ustqbdrA7e7tL0ic5', 'finish_reason': 'stop', 'logprobs': None}, id='run-1d163983-fd98-4da8-9848-3e5a7e3dfbba-0', usage_metadata={'input_tokens': 8, 'output_tokens': 10, 'total_tokens': 18, 'input_token_details': {'audio': 0, 'cache_read': 0}, 'output_token_details': {'audio': 0, 'reasoning': 0}})]}"
      ]
     },
     "execution_count": 3,
     "metadata": {},
     "output_type": "execute_result"
    }
   ],
   "execution_count": 3
  },
  {
   "metadata": {},
   "cell_type": "markdown",
   "source": [
    "### 그래프 구성\n",
    "사용자가 여러 LLM 중에서 선택할 수 있도록 예제를 확장\n",
    "\n",
    "config를 전달하면 쉽게 구현 가능\n",
    "- 모든 구성 정보는 아래와 같이 `configurable` key 내부에 전달\n",
    "- config는 입력에 포함되지 않은 항목(즉, 상태의 일부로 추적하지 않으려는 항목)을 포함하도록 설계"
   ],
   "id": "29a420cff742e2ca"
  },
  {
   "metadata": {},
   "cell_type": "code",
   "outputs": [],
   "execution_count": null,
   "source": [
    "from langchain_openai import ChatOpenAI\n",
    "from typing import Optional\n",
    "from langchain_core.runnables.config import RunnableConfig\n",
    "\n",
    "openai_model = ChatOpenAI()\n",
    "\n",
    "models = {\n",
    "    \"anthropic\": model,\n",
    "    \"openai\": openai_model,\n",
    "}\n",
    "\n",
    "def _call_model(state: AgentState, config: RunnableConfig):\n",
    "    # Access the config through the configurable key\n",
    "    model_name = config[\"configurable\"].get(\"model\", \"anthropic\")\n",
    "    model = models[model_name]\n",
    "    response = model.invoke(state[\"messages\"])\n",
    "    return {\"messages\": [response]}\n",
    "\n",
    "# Define a new graph\n",
    "builder = StateGraph(AgentState)\n",
    "builder.add_node(\"model\", _call_model)\n",
    "builder.add_edge(START, \"model\")\n",
    "builder.add_edge(\"model\", END)\n",
    "\n",
    "graph = builder.compile()"
   ],
   "id": "abb86385108ae4fb"
  },
  {
   "metadata": {},
   "cell_type": "code",
   "outputs": [],
   "execution_count": null,
   "source": "graph.invoke({\"messages\": [HumanMessage(content=\"hi\")]})",
   "id": "d3104c0448cae9c9"
  },
  {
   "metadata": {},
   "cell_type": "code",
   "outputs": [],
   "execution_count": null,
   "source": [
    "config = {\"configurable\": {\"model\": \"openai\"}}\n",
    "graph.invoke({\"messages\": [HumanMessage(content=\"hi\")]}, config=config)"
   ],
   "id": "64911460e6a6ca7e"
  },
  {
   "metadata": {},
   "cell_type": "code",
   "outputs": [],
   "execution_count": null,
   "source": [
    "from langchain_core.messages import SystemMessage\n",
    "\n",
    "\n",
    "# We can define a config schema to specify the configuration options for the graph\n",
    "# A config schema is useful for indicating which fields are available in the configurable dict inside the config\n",
    "class ConfigSchema(TypedDict):\n",
    "    model: Optional[str]\n",
    "    system_message: Optional[str]\n",
    "\n",
    "\n",
    "def _call_model(state: AgentState, config: RunnableConfig):\n",
    "    # Access the config through the configurable key\n",
    "    model_name = config[\"configurable\"].get(\"model\", \"anthropic\")\n",
    "    model = models[model_name]\n",
    "    messages = state[\"messages\"]\n",
    "    if \"system_message\" in config[\"configurable\"]:\n",
    "        messages = [\n",
    "            SystemMessage(content=config[\"configurable\"][\"system_message\"])\n",
    "        ] + messages\n",
    "    response = model.invoke(messages)\n",
    "    return {\"messages\": [response]}\n",
    "\n",
    "\n",
    "# Define a new graph - note that we pass in the configuration schema here, but it is not necessary\n",
    "workflow = StateGraph(AgentState, ConfigSchema)\n",
    "workflow.add_node(\"model\", _call_model)\n",
    "workflow.add_edge(START, \"model\")\n",
    "workflow.add_edge(\"model\", END)\n",
    "\n",
    "graph = workflow.compile()"
   ],
   "id": "68ad071d48cba987"
  },
  {
   "metadata": {},
   "cell_type": "code",
   "outputs": [],
   "execution_count": null,
   "source": "graph.invoke({\"messages\": [HumanMessage(content=\"hi\")]})",
   "id": "4b7f4c791a326b2b"
  },
  {
   "metadata": {},
   "cell_type": "code",
   "outputs": [],
   "execution_count": null,
   "source": [
    "config = {\"configurable\": {\"system_message\": \"respond in italian\"}}\n",
    "graph.invoke({\"messages\": [HumanMessage(content=\"hi\")]}, config=config)"
   ],
   "id": "6b20ef2fa124df5e"
  }
 ],
 "metadata": {
  "kernelspec": {
   "display_name": "Python 3",
   "language": "python",
   "name": "python3"
  },
  "language_info": {
   "codemirror_mode": {
    "name": "ipython",
    "version": 2
   },
   "file_extension": ".py",
   "mimetype": "text/x-python",
   "name": "python",
   "nbconvert_exporter": "python",
   "pygments_lexer": "ipython2",
   "version": "2.7.6"
  }
 },
 "nbformat": 4,
 "nbformat_minor": 5
}
