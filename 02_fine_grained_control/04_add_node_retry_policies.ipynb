{
 "cells": [
  {
   "metadata": {},
   "cell_type": "markdown",
   "source": [
    "## 노드 재시도 정책을 추가하는 방법\n",
    "API를 호출하거나, 데이터베이스를 쿼리하거나, LLM을 호출하는 경우 등 노드에 사용자 지정 재시도 정책이 필요한 경우"
   ],
   "id": "e2be1688b4736b79"
  },
  {
   "cell_type": "code",
   "id": "initial_id",
   "metadata": {
    "collapsed": true,
    "ExecuteTime": {
     "end_time": "2025-04-29T07:01:57.269221Z",
     "start_time": "2025-04-29T07:01:57.258774Z"
    }
   },
   "source": [
    "from dotenv import load_dotenv\n",
    "\n",
    "load_dotenv()"
   ],
   "outputs": [
    {
     "data": {
      "text/plain": [
       "True"
      ]
     },
     "execution_count": 1,
     "metadata": {},
     "output_type": "execute_result"
    }
   ],
   "execution_count": 1
  },
  {
   "metadata": {},
   "cell_type": "markdown",
   "source": [
    "재시도 정책을 설정하려면 add_node 함수에 `retry` 매개변수를 전달해야 합니다.\n",
    "\n",
    "`retry` 매개변수는 `RetryPolicy`라는 이름 있는 튜플(named tuple) 객체를 입력으로 받습니다.\n",
    "\n",
    "아래는 기본 매개변수로 `RetryPolicy` 객체를 생성하는 예시입니다."
   ],
   "id": "30557c1efc06477c"
  },
  {
   "metadata": {
    "ExecuteTime": {
     "end_time": "2025-04-29T07:01:58.618846Z",
     "start_time": "2025-04-29T07:01:58.323302Z"
    }
   },
   "cell_type": "code",
   "source": [
    "from langgraph.pregel import RetryPolicy\n",
    "\n",
    "RetryPolicy()"
   ],
   "id": "ff289248bacae11b",
   "outputs": [
    {
     "data": {
      "text/plain": [
       "RetryPolicy(initial_interval=0.5, backoff_factor=2.0, max_interval=128.0, max_attempts=3, jitter=True, retry_on=<function default_retry_on at 0x106769080>)"
      ]
     },
     "execution_count": 2,
     "metadata": {},
     "output_type": "execute_result"
    }
   ],
   "execution_count": 2
  },
  {
   "metadata": {},
   "cell_type": "markdown",
   "source": [
    "기본적으로 `retry_on` 매개변수는 `default_retry_on` 함수를 사용합니다.\n",
    "\n",
    "이 함수는 다음 예외들을 제외한 모든 예외에 대해 재시도를 수행합니다:\n",
    "- `ValueError`\n",
    "- `TypeError`\n",
    "- `ArithmeticError`\n",
    "- `ImportError`\n",
    "- `LookupError`\n",
    "- `NameError`\n",
    "- `SyntaxError`\n",
    "- `RuntimeError`\n",
    "- `ReferenceError`\n",
    "- `StopIteration`\n",
    "- `StopAsyncIteration`\n",
    "- `OSError`\n",
    "또한, `requests`나 `httpx` 같은 인기 있는 HTTP 요청 라이브러리에서 발생하는 예외의 경우,\n",
    "5xx 상태 코드(서버 오류) 에 대해서만 재시도를 수행합니다."
   ],
   "id": "9df70a4607e67e2d"
  },
  {
   "metadata": {},
   "cell_type": "markdown",
   "source": [
    "### 노드에 재시도 정책 전달\n",
    "마지막으로, add_node 함수를 호출할 때 `RetryPolicy` 객체를 함께 전달할 수 있습니다.\n",
    "\n",
    "아래 예제에서는 각각의 노드에 두 가지 서로 다른 재시도 정책을 전달하는 모습을 보여줍니다."
   ],
   "id": "1531f2fbf349bdac"
  },
  {
   "metadata": {},
   "cell_type": "code",
   "outputs": [],
   "execution_count": null,
   "source": [
    "from langchain_openai import ChatOpenAI\n",
    "import operator\n",
    "import sqlite3\n",
    "from typing import Annotated, Sequence\n",
    "from typing_extensions import TypedDict\n",
    "\n",
    "from langchain_anthropic import ChatAnthropic\n",
    "from langchain_core.messages import BaseMessage\n",
    "\n",
    "from langgraph.graph import END, StateGraph, START\n",
    "from langchain_community.utilities import SQLDatabase\n",
    "from langchain_core.messages import AIMessage\n",
    "\n",
    "db = SQLDatabase.from_uri(\"sqlite:///:memory:\")\n",
    "\n",
    "# model = ChatAnthropic(model_name=\"claude-2.1\")\n",
    "model = ChatOpenAI(model=\"gpt-4o-mini\")\n",
    "\n",
    "class AgentState(TypedDict):\n",
    "    messages: Annotated[Sequence[BaseMessage], operator.add]\n",
    "\n",
    "\n",
    "def query_database(state):\n",
    "    query_result = db.run(\"SELECT * FROM Artist LIMIT 10;\")\n",
    "    return {\"messages\": [AIMessage(content=query_result)]}\n",
    "\n",
    "\n",
    "def call_model(state):\n",
    "    response = model.invoke(state[\"messages\"])\n",
    "    return {\"messages\": [response]}\n",
    "\n",
    "\n",
    "# Define a new graph\n",
    "builder = StateGraph(AgentState)\n",
    "builder.add_node(\n",
    "    \"query_database\",\n",
    "    query_database,\n",
    "    retry=RetryPolicy(retry_on=sqlite3.OperationalError),\n",
    ")\n",
    "builder.add_node(\"model\", call_model, retry=RetryPolicy(max_attempts=5))\n",
    "builder.add_edge(START, \"model\")\n",
    "builder.add_edge(\"model\", \"query_database\")\n",
    "builder.add_edge(\"query_database\", END)\n",
    "\n",
    "graph = builder.compile()"
   ],
   "id": "3b44bb3cb302aab5"
  }
 ],
 "metadata": {
  "kernelspec": {
   "display_name": "Python 3",
   "language": "python",
   "name": "python3"
  },
  "language_info": {
   "codemirror_mode": {
    "name": "ipython",
    "version": 2
   },
   "file_extension": ".py",
   "mimetype": "text/x-python",
   "name": "python",
   "nbconvert_exporter": "python",
   "pygments_lexer": "ipython2",
   "version": "2.7.6"
  }
 },
 "nbformat": 4,
 "nbformat_minor": 5
}
