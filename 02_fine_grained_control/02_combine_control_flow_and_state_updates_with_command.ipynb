{
 "cells": [
  {
   "metadata": {},
   "cell_type": "markdown",
   "source": [
    "## Command를 사용하여 제어 흐름과 상태 업데이트를 결합하는 방법\n",
    "- 제어 흐름(엣지)과 상태 업데이트(노드)를 결합하는 것이 유용할 수 있음\n",
    "  - 예를 들어, 상태 업데이트를 수행하는 동시에 같은 노드에서 다음 노드로 이동할 노드를 결정\n",
    "- LangGraph에서는 `Command` 노드 함수에서 객체를 반환하여 이런 작업을 수행할 수 있음\n",
    "\n",
    "### 기본 사용법"
   ],
   "id": "3cc04949914ab182"
  },
  {
   "cell_type": "code",
   "id": "initial_id",
   "metadata": {
    "collapsed": true,
    "ExecuteTime": {
     "end_time": "2025-04-28T08:43:24.582300Z",
     "start_time": "2025-04-28T08:43:24.272818Z"
    }
   },
   "source": [
    "import random\n",
    "from typing_extensions import TypedDict, Literal\n",
    "\n",
    "from langgraph.graph import StateGraph, START\n",
    "from langgraph.types import Command\n",
    "\n",
    "# 그래프 상태 정의\n",
    "class State(TypedDict):\n",
    "    foo: str\n",
    "\n",
    "# 노드 정의\n",
    "\n",
    "def node_a(state: State) -> Command[Literal[\"node_b\", \"node_c\"]]:\n",
    "    print(\"Called A\")\n",
    "    value = random.choice([\"a\", \"b\"])\n",
    "    # this is a replacement for a conditional edge function\n",
    "    if value == \"a\":\n",
    "        goto = \"node_b\"\n",
    "    else:\n",
    "        goto = \"node_c\"\n",
    "\n",
    "    # note how Command allows you to BOTH update the graph state AND route to the next node\n",
    "    return Command(\n",
    "        # 상태 업데이트\n",
    "        update={\"foo\": value},\n",
    "        # this is a replacement for an edge\n",
    "        goto=goto,\n",
    "    )\n",
    "\n",
    "def node_b(state: State):\n",
    "    print(\"Called B\")\n",
    "    return {\"foo\": state[\"foo\"] + \"b\"}\n",
    "\n",
    "def node_c(state: State):\n",
    "    print(\"Called C\")\n",
    "    return {\"foo\": state[\"foo\"] + \"c\"}"
   ],
   "outputs": [],
   "execution_count": 1
  },
  {
   "metadata": {},
   "cell_type": "markdown",
   "source": [
    "위 노드를 사용하여 `StateGraph`를 생성할 수 있음\n",
    "- 그래프에는 라우팅을 위한 Conditional_edge가 없다는 점\n",
    "- 제어 흐름 내부에 `Command node_a`로 정의되어 있기 때문"
   ],
   "id": "f5bd07ad89b69d0c"
  },
  {
   "metadata": {
    "ExecuteTime": {
     "end_time": "2025-04-28T08:45:14.097756Z",
     "start_time": "2025-04-28T08:45:14.089400Z"
    }
   },
   "cell_type": "code",
   "source": [
    "builder = StateGraph(State)\n",
    "builder.add_edge(START, \"node_a\")\n",
    "builder.add_node(node_a)\n",
    "builder.add_node(node_b)\n",
    "builder.add_node(node_c)\n",
    "# NOTE: there are no edges between nodes A, B and C!\n",
    "\n",
    "graph = builder.compile()"
   ],
   "id": "1475450224f8c64f",
   "outputs": [],
   "execution_count": 2
  },
  {
   "metadata": {
    "ExecuteTime": {
     "end_time": "2025-04-28T08:45:21.092119Z",
     "start_time": "2025-04-28T08:45:20.307482Z"
    }
   },
   "cell_type": "code",
   "source": [
    "from IPython.display import display, Image\n",
    "\n",
    "display(Image(graph.get_graph().draw_mermaid_png()))"
   ],
   "id": "ce7c0e4fa653ea87",
   "outputs": [
    {
     "data": {
      "image/png": "[encoded data removed]",
      "text/plain": [
       "<IPython.core.display.Image object>"
      ]
     },
     "metadata": {},
     "output_type": "display_data"
    }
   ],
   "execution_count": 3
  },
  {
   "metadata": {
    "ExecuteTime": {
     "end_time": "2025-04-28T08:46:08.865750Z",
     "start_time": "2025-04-28T08:46:08.859563Z"
    }
   },
   "cell_type": "code",
   "source": "graph.invoke({\"foo\": \"\"})",
   "id": "99513a45fb36d1ba",
   "outputs": [
    {
     "name": "stdout",
     "output_type": "stream",
     "text": [
      "Called A\n",
      "Called B\n"
     ]
    },
    {
     "data": {
      "text/plain": [
       "{'foo': 'ab'}"
      ]
     },
     "execution_count": 15,
     "metadata": {},
     "output_type": "execute_result"
    }
   ],
   "execution_count": 15
  },
  {
   "metadata": {},
   "cell_type": "markdown",
   "source": [
    "### 부모 그래프의 노드로 이동\n",
    "\n",
    "하위 그래프 내부에서 부모 그래프의 다른 노드로 이동하는 방법\n",
    "- 위 예제를 단일 노드 `node_a` 그래프로 변경하고, 이를 부모 그래프의 하위 그래프로 추가"
   ],
   "id": "b361f1a5e7be18bd"
  },
  {
   "metadata": {
    "ExecuteTime": {
     "end_time": "2025-04-28T08:51:23.093618Z",
     "start_time": "2025-04-28T08:51:23.085662Z"
    }
   },
   "cell_type": "code",
   "source": [
    "import operator\n",
    "from typing_extensions import Annotated\n",
    "\n",
    "class State(TypedDict):\n",
    "    # NOTE: we define a reducer here\n",
    "    foo: Annotated[str, operator.add]\n",
    "\n",
    "def node_a(state: State):\n",
    "    print(\"Called A\")\n",
    "    value = random.choice([\"a\", \"b\"])\n",
    "    # this is a replacement for a conditional edge function\n",
    "    if value == \"a\":\n",
    "        goto = \"node_b\"\n",
    "    else:\n",
    "        goto = \"node_c\"\n",
    "\n",
    "    # note how Command allows you to BOTH update the graph state AND route to the next node\n",
    "    return Command(\n",
    "        update={\"foo\": value},\n",
    "        goto=goto,\n",
    "        # this tells LangGraph to navigate to node_b or node_c in the parent graph\n",
    "        # NOTE: this will navigate to the closest parent graph relative to the subgraph\n",
    "        graph=Command.PARENT,\n",
    "    )\n",
    "\n",
    "subgraph = StateGraph(State).add_node(node_a).add_edge(START, \"node_a\").compile()\n",
    "\n",
    "def node_b(state: State):\n",
    "    print(\"Called B\")\n",
    "    # NOTE: since we've defined a reducer, we don't need to manually append\n",
    "    # new characters to existing 'foo' value. instead, reducer will append these\n",
    "    # automatically (via operator.add)\n",
    "    return {\"foo\": \"b\"}\n",
    "\n",
    "def node_c(state: State):\n",
    "    print(\"Called C\")\n",
    "    return {\"foo\": \"c\"}"
   ],
   "id": "7b97070163491bb5",
   "outputs": [],
   "execution_count": 16
  },
  {
   "metadata": {
    "ExecuteTime": {
     "end_time": "2025-04-28T08:54:11.080782Z",
     "start_time": "2025-04-28T08:54:11.075170Z"
    }
   },
   "cell_type": "code",
   "source": [
    "builder = StateGraph(State)\n",
    "builder.add_edge(START, \"subgraph\")\n",
    "builder.add_node(\"subgraph\", subgraph)\n",
    "builder.add_node(node_b)\n",
    "builder.add_node(node_c)\n",
    "\n",
    "graph = builder.compile()"
   ],
   "id": "42aa65e8249bd0ce",
   "outputs": [],
   "execution_count": 21
  },
  {
   "metadata": {
    "ExecuteTime": {
     "end_time": "2025-04-28T08:54:13.042535Z",
     "start_time": "2025-04-28T08:54:13.035056Z"
    }
   },
   "cell_type": "code",
   "source": "graph.invoke({\"foo\": \"\"})",
   "id": "ca6bcc982ea6fb7a",
   "outputs": [
    {
     "name": "stdout",
     "output_type": "stream",
     "text": [
      "Called A\n",
      "Called C\n"
     ]
    },
    {
     "data": {
      "text/plain": [
       "{'foo': 'bc'}"
      ]
     },
     "execution_count": 22,
     "metadata": {},
     "output_type": "execute_result"
    }
   ],
   "execution_count": 22
  }
 ],
 "metadata": {
  "kernelspec": {
   "display_name": "Python 3",
   "language": "python",
   "name": "python3"
  },
  "language_info": {
   "codemirror_mode": {
    "name": "ipython",
    "version": 2
   },
   "file_extension": ".py",
   "mimetype": "text/x-python",
   "name": "python",
   "nbconvert_exporter": "python",
   "pygments_lexer": "ipython2",
   "version": "2.7.6"
  }
 },
 "nbformat": 4,
 "nbformat_minor": 5
}
