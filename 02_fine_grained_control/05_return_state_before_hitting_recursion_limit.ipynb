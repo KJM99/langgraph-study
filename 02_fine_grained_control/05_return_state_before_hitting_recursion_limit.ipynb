{
 "cells": [
  {
   "metadata": {},
   "cell_type": "markdown",
   "source": [
    "## 재귀 한계에 도달하기 전에 상태를 반환하는 방법\n",
    "그래프 재귀 제한을 설정하면 그래프 실행 시간을 제어하는데 도움이 되지만, 재귀 제한에 도달하면 그래프에서 오류가 발생\n",
    "\n",
    "이는 모든 사용 사례에 적합하지 않을 수 있음\n",
    "\n",
    "대신 재귀 제한에 도달하기 직전의 상태 값을 반환하는 것이 좋음"
   ],
   "id": "91a45a31093d3a4f"
  },
  {
   "metadata": {},
   "cell_type": "markdown",
   "source": [
    "### 상태를 반환하지 않고\n",
    "항상 재귀 한계에 도달하는 더미 그래프 정의\n",
    "\n",
    "상태를 반환하지 않고 더미 그래프를 구현하여 재귀 한계에 도달하는지 확인\n",
    "\n",
    "   - ReAct 아키텍처를 기반으로 하지만, 실제로 결정을 내리고 조치를 취하는 대신 무한 반복\n"
   ],
   "id": "10be74f70b9f8f37"
  },
  {
   "cell_type": "code",
   "id": "initial_id",
   "metadata": {
    "collapsed": true,
    "ExecuteTime": {
     "end_time": "2025-04-29T07:20:40.071864Z",
     "start_time": "2025-04-29T07:20:39.664702Z"
    }
   },
   "source": [
    "from typing_extensions import TypedDict\n",
    "from langgraph.graph import StateGraph\n",
    "from langgraph.graph import START, END\n",
    "\n",
    "class State(TypedDict):\n",
    "    value: str\n",
    "    action_result: str\n",
    "\n",
    "def router(state: State):\n",
    "    if state[\"value\"] == \"end\":\n",
    "        return END\n",
    "    else:\n",
    "        return \"action\"\n",
    "\n",
    "def decision_node(state):\n",
    "    return {\"value\": \"keep going!\"}\n",
    "\n",
    "def action_node(state: State):\n",
    "    # Do your action here ...\n",
    "    return {\"action_result\": \"what a great result!\"}\n",
    "\n",
    "workflow = StateGraph(State)\n",
    "workflow.add_node(\"decision\", decision_node)\n",
    "workflow.add_node(\"action\", action_node)\n",
    "workflow.add_edge(START, \"decision\")\n",
    "workflow.add_conditional_edges(\"decision\", router, [\"action\", END])\n",
    "workflow.add_edge(\"action\", \"decision\")\n",
    "app = workflow.compile()"
   ],
   "outputs": [],
   "execution_count": 1
  },
  {
   "metadata": {
    "ExecuteTime": {
     "end_time": "2025-04-29T07:20:48.549451Z",
     "start_time": "2025-04-29T07:20:47.731670Z"
    }
   },
   "cell_type": "code",
   "source": [
    "from IPython.display import Image, display\n",
    "\n",
    "display(Image(app.get_graph().draw_mermaid_png()))"
   ],
   "id": "938d755562153f12",
   "outputs": [
    {
     "data": {
      "image/png": "[encoded data removed]",
      "text/plain": [
       "<IPython.core.display.Image object>"
      ]
     },
     "metadata": {},
     "output_type": "display_data"
    }
   ],
   "execution_count": 2
  },
  {
   "metadata": {
    "ExecuteTime": {
     "end_time": "2025-04-29T07:20:57.120595Z",
     "start_time": "2025-04-29T07:20:57.097456Z"
    }
   },
   "cell_type": "code",
   "source": [
    "from langgraph.errors import GraphRecursionError\n",
    "\n",
    "try:\n",
    "    app.invoke({\"value\": \"hi!\"})\n",
    "except GraphRecursionError:\n",
    "    print(\"Recursion Error\")"
   ],
   "id": "ab49fd9fbe7a8b59",
   "outputs": [
    {
     "name": "stdout",
     "output_type": "stream",
     "text": [
      "Recursion Error\n"
     ]
    }
   ],
   "execution_count": 3
  },
  {
   "metadata": {},
   "cell_type": "markdown",
   "source": [
    "### 상태를 반환\n",
    "재귀 한계에 도달하지 않기 위해 상태에 `remaining_steps`라는 새로운 키를 도입\n",
    "\n",
    "이 키는 재귀 한계에 도달할 때까지 단계 수를 추적\n",
    "\n",
    "그런 다음 `remaining_steps`의 값을 확인하여 그래프 실행을 종료하고 `RecursionError`를 발생시키지 않고 상태를 사용자에게 반환해야 할지 여부를 결정할 수 있습니다.\n",
    "\n",
    "이를 위해 특별한 애노테이션 `RemainingSteps`를 사용\n",
    "- 내부적으로 특별한 `ManagedValue` 채널을 생성\n",
    "- 이 채널은 그래프 실행 시간동안만 존재하고 더이상 존재하지 않는 상태 채널\n",
    "\n",
    "액션 노드는 항상 이후에 결정(decision) 노드를 호출하기 때문에, 그래프에 최소 2개의 추가 단계를 유발하게 됩니다.\n",
    "\n",
    "따라서 이 채널을 사용하여 제한(limit)에 2단계 이내로 접근했는지를 확인할 것입니다.\n",
    "\n",
    "이제 그래프를 실행하면, 오류 없이 재귀 한계에 도달하기 직전의 상태 마지막 값을 얻을 수 있어야 합니다."
   ],
   "id": "1eb73c3a7160db98"
  },
  {
   "metadata": {
    "ExecuteTime": {
     "end_time": "2025-04-29T07:55:54.543944Z",
     "start_time": "2025-04-29T07:55:54.528475Z"
    }
   },
   "cell_type": "code",
   "source": [
    "from typing_extensions import TypedDict\n",
    "from langgraph.graph import StateGraph\n",
    "from typing import Annotated\n",
    "\n",
    "from langgraph.managed.is_last_step import RemainingSteps\n",
    "\n",
    "class State(TypedDict):\n",
    "    value: str\n",
    "    action_result: str\n",
    "    remaining_steps: RemainingSteps\n",
    "\n",
    "def router(state: State):\n",
    "    # Force the agent to end\n",
    "    if state[\"remaining_steps\"] <= 2:\n",
    "        return END\n",
    "    if state[\"value\"] == \"end\":\n",
    "        return END\n",
    "    else:\n",
    "        return \"action\"\n",
    "\n",
    "def decision_node(state):\n",
    "    return {\"value\": \"keep going!\"}\n",
    "\n",
    "def action_node(state: State):\n",
    "    # Do your action here ...\n",
    "    return {\"action_result\": \"what a great result!\"}\n",
    "\n",
    "workflow = StateGraph(State)\n",
    "workflow.add_node(\"decision\", decision_node)\n",
    "workflow.add_node(\"action\", action_node)\n",
    "workflow.add_edge(START, \"decision\")\n",
    "workflow.add_conditional_edges(\"decision\", router, [\"action\", END])\n",
    "workflow.add_edge(\"action\", \"decision\")\n",
    "app = workflow.compile()"
   ],
   "id": "445e0998f15cd3c6",
   "outputs": [],
   "execution_count": 4
  },
  {
   "metadata": {
    "ExecuteTime": {
     "end_time": "2025-04-29T07:55:57.372326Z",
     "start_time": "2025-04-29T07:55:57.359005Z"
    }
   },
   "cell_type": "code",
   "source": "app.invoke({\"value\": \"hi!\"})",
   "id": "4bec4c5a25a13533",
   "outputs": [
    {
     "data": {
      "text/plain": [
       "{'value': 'keep going!', 'action_result': 'what a great result!'}"
      ]
     },
     "execution_count": 5,
     "metadata": {},
     "output_type": "execute_result"
    }
   ],
   "execution_count": 5
  }
 ],
 "metadata": {
  "kernelspec": {
   "display_name": "Python 3",
   "language": "python",
   "name": "python3"
  },
  "language_info": {
   "codemirror_mode": {
    "name": "ipython",
    "version": 2
   },
   "file_extension": ".py",
   "mimetype": "text/x-python",
   "name": "python",
   "nbconvert_exporter": "python",
   "pygments_lexer": "ipython2",
   "version": "2.7.6"
  }
 },
 "nbformat": 4,
 "nbformat_minor": 5
}
